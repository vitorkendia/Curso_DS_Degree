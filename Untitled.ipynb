{
 "cells": [
  {
   "cell_type": "code",
   "execution_count": 1,
   "id": "a57d289b-d459-48b3-b443-43b469a5a117",
   "metadata": {},
   "outputs": [],
   "source": [
    "import numpy as np"
   ]
  },
  {
   "cell_type": "code",
   "execution_count": 4,
   "id": "ac1e89f7-1f13-49dd-a430-8962aedb5035",
   "metadata": {},
   "outputs": [
    {
     "data": {
      "text/plain": [
       "array([ 0,  1,  2,  3,  4,  5,  6,  7,  8,  9, 10, 11, 12, 13, 14, 15, 16,\n",
       "       17, 18, 19, 20, 21, 22, 23, 24, 25, 26, 27, 28, 29, 30, 31, 32, 33,\n",
       "       34, 35, 36, 37, 38, 39, 40, 41, 42, 43, 44, 45, 46, 47, 48, 49])"
      ]
     },
     "execution_count": 4,
     "metadata": {},
     "output_type": "execute_result"
    }
   ],
   "source": [
    "arr = np.arange(50)\n",
    "arr"
   ]
  },
  {
   "cell_type": "code",
   "execution_count": 3,
   "id": "b6bd8f91-e920-4c0d-abca-b9b8390cbeb8",
   "metadata": {},
   "outputs": [
    {
     "name": "stdout",
     "output_type": "stream",
     "text": [
      "[0 1 0 1 0 1 0 1 0 1 0 1 0 1 0 1 0 1 0 1 0 1 0 1 0 1 0 1 0 1 0 1 0 1 0 1 0\n",
      " 1 0 1 0 1 0 1 0 1 0 1 0 1]\n"
     ]
    }
   ],
   "source": [
    "arr_atualizado= arr[arr%2]\n",
    "print(arr_atualizado)"
   ]
  },
  {
   "cell_type": "code",
   "execution_count": 5,
   "id": "f7155117-06e2-4d1d-abfd-2449c4e11aeb",
   "metadata": {},
   "outputs": [
    {
     "name": "stdout",
     "output_type": "stream",
     "text": [
      "[ 6  7  8  9 10 11 12 13 14 15 16 17 18 19 20 21 22 23 24 25 26 27 28 29\n",
      " 30 31 32 33 34 35 36 37 38 39 40 41 42 43 44 45 46 47 48 49]\n"
     ]
    }
   ],
   "source": [
    "arr_atualizado = arr[arr > 5]\n",
    "print(arr_atualizado)"
   ]
  },
  {
   "cell_type": "code",
   "execution_count": 7,
   "id": "aeefee13-1bbd-40f8-ab4e-822dcb9fdefc",
   "metadata": {},
   "outputs": [
    {
     "name": "stdout",
     "output_type": "stream",
     "text": [
      "[ 0  1  2  3  4  5  6  7  8  9 10]\n"
     ]
    }
   ],
   "source": [
    "arr_atualizado = arr[arr <=10]\n",
    "print(arr_atualizado)"
   ]
  },
  {
   "cell_type": "code",
   "execution_count": 8,
   "id": "7b5666ea-af2f-4416-8146-06b54a7ddbcd",
   "metadata": {},
   "outputs": [
    {
     "name": "stdout",
     "output_type": "stream",
     "text": [
      "[ 0  1  2  3  4  5  6  7  8  9 10 11 12 13 14 15 16 17 18 19 20 21 22 23\n",
      " 24 25 26 27 28 29 30 31 32 33 34 35 36 37 38 39 40 41 42 43 44 45 46 47\n",
      " 48 49]\n"
     ]
    }
   ],
   "source": [
    "arr_atualizado = arr[(arr!=1) | (arr!=3)]\n",
    "print(arr_atualizado)"
   ]
  },
  {
   "cell_type": "code",
   "execution_count": 11,
   "id": "8123eb8c-5850-449a-8281-c0b1984a473e",
   "metadata": {},
   "outputs": [
    {
     "data": {
      "text/plain": [
       "array([94, 78,  5, 77, 84, 25, 19, 76, 77, 98, 62, 68, 29, 90, 27])"
      ]
     },
     "execution_count": 11,
     "metadata": {},
     "output_type": "execute_result"
    }
   ],
   "source": [
    "np.random.randint(low=1, high=100, size=15)"
   ]
  },
  {
   "cell_type": "code",
   "execution_count": 12,
   "id": "b969e51c-8498-4ea4-ae0c-d69637cf872a",
   "metadata": {},
   "outputs": [
    {
     "data": {
      "text/plain": [
       "98"
      ]
     },
     "execution_count": 12,
     "metadata": {},
     "output_type": "execute_result"
    }
   ],
   "source": [
    "max(np.random.randint(low=1, high=100, size=15))"
   ]
  },
  {
   "cell_type": "code",
   "execution_count": 13,
   "id": "d5550484-5e36-4d59-bd78-a33c92a9c23a",
   "metadata": {},
   "outputs": [
    {
     "data": {
      "text/plain": [
       "3"
      ]
     },
     "execution_count": 13,
     "metadata": {},
     "output_type": "execute_result"
    }
   ],
   "source": [
    "min(np.random.randint(low=1, high=100, size=15))"
   ]
  },
  {
   "cell_type": "markdown",
   "id": "9b9b0a71-c3b5-499d-97b5-f2e0bd68c651",
   "metadata": {},
   "source": [
    "Agora, vamos explorar os arrays aleatórios e máscaras. Faça o que se pede:\n",
    "\n",
    "a) Crie um array aleatório de 15 itens entre 0 e 100;\n",
    "\n",
    "b) Qual o maior número do array?\n",
    "\n",
    "c) Qual a sua posição?\n",
    "\n",
    "d) Verifique quais números do array são maior que 10;\n",
    "\n",
    "e) Salve em uma nova lista apenas os itens entre 10 e 30."
   ]
  },
  {
   "cell_type": "code",
   "execution_count": null,
   "id": "6a17ff39-e97a-4d47-b561-2ee71332d4a5",
   "metadata": {},
   "outputs": [],
   "source": []
  }
 ],
 "metadata": {
  "kernelspec": {
   "display_name": "Python 3 (ipykernel)",
   "language": "python",
   "name": "python3"
  },
  "language_info": {
   "codemirror_mode": {
    "name": "ipython",
    "version": 3
   },
   "file_extension": ".py",
   "mimetype": "text/x-python",
   "name": "python",
   "nbconvert_exporter": "python",
   "pygments_lexer": "ipython3",
   "version": "3.9.7"
  }
 },
 "nbformat": 4,
 "nbformat_minor": 5
}
