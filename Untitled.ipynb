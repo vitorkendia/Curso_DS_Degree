{
 "cells": [
  {
   "cell_type": "code",
   "execution_count": 7,
   "id": "ff3602b0-4bf2-4b21-8d53-ba65dd6d2b11",
   "metadata": {},
   "outputs": [
    {
     "data": {
      "text/plain": [
       "array([65, 60,  0, 57,  2, 92,  4, 21, 58,  3, 58, 87, 80, 68,  4])"
      ]
     },
     "execution_count": 7,
     "metadata": {},
     "output_type": "execute_result"
    }
   ],
   "source": [
    "import numpy as np\n",
    "\n",
    "arr= np.random.randint(low=0, high=100, size=15)\n",
    "arr"
   ]
  },
  {
   "cell_type": "code",
   "execution_count": 8,
   "id": "f758ae73-068b-4a8b-a1b0-078990369062",
   "metadata": {},
   "outputs": [
    {
     "data": {
      "text/plain": [
       "92"
      ]
     },
     "execution_count": 8,
     "metadata": {},
     "output_type": "execute_result"
    }
   ],
   "source": [
    "arr.max()"
   ]
  },
  {
   "cell_type": "code",
   "execution_count": 11,
   "id": "dd26e9ae-e94c-4fd2-9132-adc2fb5525a2",
   "metadata": {},
   "outputs": [
    {
     "data": {
      "text/plain": [
       "(array([5], dtype=int64),)"
      ]
     },
     "execution_count": 11,
     "metadata": {},
     "output_type": "execute_result"
    }
   ],
   "source": [
    "np.where(arr==92)"
   ]
  },
  {
   "cell_type": "code",
   "execution_count": 12,
   "id": "651fb509-7cc8-4673-8d2b-aae941c9019d",
   "metadata": {},
   "outputs": [
    {
     "data": {
      "text/plain": [
       "array([65, 60, 57, 92, 21, 58, 58, 87, 80, 68])"
      ]
     },
     "execution_count": 12,
     "metadata": {},
     "output_type": "execute_result"
    }
   ],
   "source": [
    "arr[arr>10]"
   ]
  },
  {
   "cell_type": "code",
   "execution_count": 17,
   "id": "dd036597-abd7-4e97-8d9b-44512dc88a29",
   "metadata": {},
   "outputs": [
    {
     "data": {
      "text/plain": [
       "array([21])"
      ]
     },
     "execution_count": 17,
     "metadata": {},
     "output_type": "execute_result"
    }
   ],
   "source": [
    "lista=arr[(arr>10) & (arr<30)]\n",
    "lista"
   ]
  },
  {
   "cell_type": "markdown",
   "id": "b8a0d0a5-3cbc-4c02-a25b-c3fc4cc41d3d",
   "metadata": {},
   "source": [
    "Nosso próximo foco serão as matrizes. Faça o que se pede:\n",
    "\n",
    "a) Gere uma matriz (3,2) com números linearmente espaçados entre 0 e 100 e intervalos de 20, usando o np.linspace();\n",
    "\n",
    "b) Gere uma matriz aleatória (5,2) com números entre 0 e 100;\n",
    "\n",
    "c) Crie um array com as dimensões apropriadas que, quando multiplicado pela matriz do item a), devolva essa mesma matriz. Use o método np.matmul()."
   ]
  },
  {
   "cell_type": "code",
   "execution_count": 75,
   "id": "3767ea65-65b4-4413-9e91-78c0bda08e00",
   "metadata": {},
   "outputs": [
    {
     "data": {
      "text/plain": [
       "array([[  0.,  20.],\n",
       "       [ 40.,  60.],\n",
       "       [ 80., 100.]])"
      ]
     },
     "execution_count": 76,
     "metadata": {},
     "output_type": "execute_result"
    }
   ],
   "source": [
    "matrix=np.array(np.linspace(0, 100, num=6)).reshape(3,2)\n",
    "matrix\n",
    "matrix.t"
   ]
  },
  {
   "cell_type": "code",
   "execution_count": 57,
   "id": "d8557e65-d3c5-45dc-89ac-ddad9974cc3b",
   "metadata": {},
   "outputs": [
    {
     "data": {
      "text/plain": [
       "array([[77, 71],\n",
       "       [83, 40],\n",
       "       [24, 52],\n",
       "       [37, 77],\n",
       "       [28, 91]])"
      ]
     },
     "execution_count": 57,
     "metadata": {},
     "output_type": "execute_result"
    }
   ],
   "source": [
    "rand_matrix=np.random.randint(low=0, high=100, size=10).reshape(5,2)\n",
    "rand_matrix"
   ]
  },
  {
   "cell_type": "code",
   "execution_count": 81,
   "id": "d13ac1f2-9c54-4ae8-8883-38fd1b173e8a",
   "metadata": {},
   "outputs": [
    {
     "data": {
      "text/plain": [
       "array([[ 20.,  20.,  20.],\n",
       "       [100., 100., 100.],\n",
       "       [180., 180., 180.]])"
      ]
     },
     "execution_count": 81,
     "metadata": {},
     "output_type": "execute_result"
    }
   ],
   "source": [
    "array=np.array(([1,1,1],[1,1,1])).reshape(2,3)\n",
    "np.matmul(matrix,array)\n"
   ]
  },
  {
   "cell_type": "code",
   "execution_count": 44,
   "id": "a88604d7-f014-4232-adb1-d9f5c0565510",
   "metadata": {},
   "outputs": [
    {
     "data": {
      "text/plain": [
       "array([  0.        ,   5.26315789,  10.52631579,  15.78947368,\n",
       "        21.05263158,  26.31578947,  31.57894737,  36.84210526,\n",
       "        42.10526316,  47.36842105,  52.63157895,  57.89473684,\n",
       "        63.15789474,  68.42105263,  73.68421053,  78.94736842,\n",
       "        84.21052632,  89.47368421,  94.73684211, 100.        ])"
      ]
     },
     "execution_count": 44,
     "metadata": {},
     "output_type": "execute_result"
    }
   ],
   "source": []
  },
  {
   "cell_type": "markdown",
   "id": "d6fa0b96-223f-4986-9a6e-c9b5f0ad21a6",
   "metadata": {},
   "source": [
    "Printe os elementos dos seguintes dois vetores usando apenas um for:\n",
    "\n",
    "arr = np.array([[[1, 2, 3], [4, 5, 6]], [[7, 8, 9], [10, 11, 12]]])\n",
    "\n",
    "Depois, faça o mesmo usando numpy (usando a função nditer) e deixe um comentário sobre a diferença dos dois métodos.\n",
    "\n",
    "arr = np.array([[[1, 2, 3], [4, 5, 6]], [[7, 8, 9], [10, 11, 12]]])"
   ]
  },
  {
   "cell_type": "code",
   "execution_count": 85,
   "id": "4b727d95-99c4-41f4-8c3a-06f2f7e18a28",
   "metadata": {},
   "outputs": [
    {
     "data": {
      "text/plain": [
       "array([[[ 1,  2,  3],\n",
       "        [ 4,  5,  6]],\n",
       "\n",
       "       [[ 7,  8,  9],\n",
       "        [10, 11, 12]]])"
      ]
     },
     "execution_count": 85,
     "metadata": {},
     "output_type": "execute_result"
    }
   ],
   "source": [
    "arr = np.array([[[1, 2, 3], [4, 5, 6]], [[7, 8, 9], [10, 11, 12]]])\n",
    "arr"
   ]
  },
  {
   "cell_type": "code",
   "execution_count": 89,
   "id": "2eabe60d-d0ce-40e0-8df7-74536cb6c8ae",
   "metadata": {},
   "outputs": [
    {
     "data": {
      "text/plain": [
       "[array([[1, 2, 3],\n",
       "        [4, 5, 6]]),\n",
       " array([[ 7,  8,  9],\n",
       "        [10, 11, 12]])]"
      ]
     },
     "execution_count": 89,
     "metadata": {},
     "output_type": "execute_result"
    }
   ],
   "source": [
    "[arr[i] for i in range(2)]"
   ]
  },
  {
   "cell_type": "markdown",
   "id": "52734e8a-2a7e-44e5-804c-2f3c97bf738a",
   "metadata": {},
   "source": [
    "Peça para o usuário uma lista com as comidas favoritas dele, depois transforme isso em um objeto numpy. Agora transformado, elimine todas as comidas que começam com uma vogal. Mostre o resultado.\n",
    "\n",
    "Exemplo:\n",
    "\n",
    "Entrada: [maçã, uva, morango, melancia, acelga]\n",
    "\n",
    "Saída: [maçã, morango, melancia]"
   ]
  },
  {
   "cell_type": "code",
   "execution_count": 92,
   "id": "bb5fd947-d8b2-4b2b-9750-643f7727f44c",
   "metadata": {},
   "outputs": [
    {
     "data": {
      "text/plain": [
       "array(['maçã', 'uva', 'morango', 'melancia', 'acelga'], dtype='<U8')"
      ]
     },
     "execution_count": 92,
     "metadata": {},
     "output_type": "execute_result"
    }
   ],
   "source": [
    "lista = ['maçã', 'uva', 'morango', 'melancia', 'acelga']\n",
    "conditions = \n",
    "array=np.array(lista)\n",
    "for fruit in array\n",
    "    if (fruit[0]=='a') or (fruit[0]=='e') or (fruit[0]=='i') or (fruit[0]=='o') or (fruit[0]=='u'):\n",
    "        \n",
    "    "
   ]
  },
  {
   "cell_type": "code",
   "execution_count": null,
   "id": "65197a75-a80b-4274-9b2f-c3a96670b2be",
   "metadata": {},
   "outputs": [],
   "source": []
  }
 ],
 "metadata": {
  "kernelspec": {
   "display_name": "Python 3 (ipykernel)",
   "language": "python",
   "name": "python3"
  },
  "language_info": {
   "codemirror_mode": {
    "name": "ipython",
    "version": 3
   },
   "file_extension": ".py",
   "mimetype": "text/x-python",
   "name": "python",
   "nbconvert_exporter": "python",
   "pygments_lexer": "ipython3",
   "version": "3.9.7"
  }
 },
 "nbformat": 4,
 "nbformat_minor": 5
}
